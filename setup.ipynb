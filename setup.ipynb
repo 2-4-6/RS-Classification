{
 "cells": [
  {
   "cell_type": "code",
   "execution_count": 1,
   "id": "b2ddafab",
   "metadata": {},
   "outputs": [],
   "source": [
    "import os\n",
    "import glob\n",
    "import json\n",
    "from typing import Tuple, List\n",
    "from datetime import datetime, timedelta\n",
    "import pickle\n",
    "import shutil\n",
    "import warnings\n",
    "warnings.filterwarnings('ignore')\n",
    "\n",
    "import numpy as np\n",
    "import pandas as pd\n",
    "import geopandas as gpd\n",
    "import matplotlib.pyplot as plt\n",
    "from matplotlib.patches import Patch\n",
    "from matplotlib.colors import ListedColormap\n",
    "from tqdm.auto import tqdm\n",
    "\n",
    "from utils.data_transform import Sentinel2Transform\n",
    "from utils.sentinel_2_reader import S2Reader\n",
    "from utils.data_loader import DataLoader"
   ]
  },
  {
   "cell_type": "code",
   "execution_count": 2,
   "id": "7d56e747",
   "metadata": {},
   "outputs": [],
   "source": [
    "from radiant_mlhub import Dataset\n",
    "\n",
    "os.environ['MLHUB_API_KEY'] = '380ab1acf08f82cddc417ddaf61b6acbaceb0e6a125435e63b79d93efe0110c6'\n",
    "\n",
    "if not os.path.exists('data/'):\n",
    "    os.makedirs('data/')"
   ]
  },
  {
   "cell_type": "code",
   "execution_count": 3,
   "id": "5275115e",
   "metadata": {},
   "outputs": [
    {
     "name": "stdout",
     "output_type": "stream",
     "text": [
      "dlr_fusion_competition_germany: A Fusion Dataset for Crop Type Classification in Germany\n"
     ]
    },
    {
     "name": "stderr",
     "output_type": "stream",
     "text": [
      "INFO:radiant_mlhub.client.catalog_downloader:unarchive dlr_fusion_competition_germany.tar.gz ...\n",
      "unarchive dlr_fusion_competition_germany.tar.gz: 100%|██████████| 1790/1790 [00:00<00:00, 23995.56it/s]\n",
      "INFO:radiant_mlhub.client.catalog_downloader:create stac asset list (please wait) ...\n",
      "INFO:radiant_mlhub.client.catalog_downloader:1654 unique assets in stac catalog.\n",
      "download assets: 100%|██████████| 1654/1654 [00:06<00:00, 238.07it/s]\n",
      "INFO:radiant_mlhub.client.catalog_downloader:assets saved to data\\dlr_fusion_competition_germany\n"
     ]
    }
   ],
   "source": [
    "dataset = Dataset.fetch('dlr_fusion_competition_germany')\n",
    "print(f'{dataset.id}: {dataset.title}')\n",
    "dataset.download('data/')"
   ]
  },
  {
   "cell_type": "code",
   "execution_count": 4,
   "id": "def189ae",
   "metadata": {},
   "outputs": [],
   "source": [
    "brandenburg_tr_labels_dir='data/dlr_fusion_competition_germany/dlr_fusion_competition_germany_train_labels/dlr_fusion_competition_germany_train_labels_33N_18E_242N/vector_labels.geojson'\n",
    "brandenburg_te_labels_dir='data/dlr_fusion_competition_germany/dlr_fusion_competition_germany_test_labels/dlr_fusion_competition_germany_test_labels_33N_17E_243N/vector_labels.geojson'"
   ]
  },
  {
   "cell_type": "code",
   "execution_count": 5,
   "id": "fd037948",
   "metadata": {},
   "outputs": [
    {
     "name": "stdout",
     "output_type": "stream",
     "text": [
      "INFO: Number of fields: 2534\n",
      "\n",
      "<class 'geopandas.geodataframe.GeoDataFrame'>\n",
      "RangeIndex: 2534 entries, 0 to 2533\n",
      "Data columns (total 6 columns):\n",
      " #   Column      Non-Null Count  Dtype   \n",
      "---  ------      --------------  -----   \n",
      " 0   fid         2534 non-null   int64   \n",
      " 1   SHAPE_AREA  2534 non-null   float64 \n",
      " 2   SHAPE_LEN   2534 non-null   float64 \n",
      " 3   crop_id     2534 non-null   int64   \n",
      " 4   crop_name   2534 non-null   object  \n",
      " 5   geometry    2534 non-null   geometry\n",
      "dtypes: float64(2), geometry(1), int64(2), object(1)\n",
      "memory usage: 118.9+ KB\n"
     ]
    },
    {
     "data": {
      "text/html": [
       "<div>\n",
       "<style scoped>\n",
       "    .dataframe tbody tr th:only-of-type {\n",
       "        vertical-align: middle;\n",
       "    }\n",
       "\n",
       "    .dataframe tbody tr th {\n",
       "        vertical-align: top;\n",
       "    }\n",
       "\n",
       "    .dataframe thead th {\n",
       "        text-align: right;\n",
       "    }\n",
       "</style>\n",
       "<table border=\"1\" class=\"dataframe\">\n",
       "  <thead>\n",
       "    <tr style=\"text-align: right;\">\n",
       "      <th></th>\n",
       "      <th>fid</th>\n",
       "      <th>SHAPE_AREA</th>\n",
       "      <th>SHAPE_LEN</th>\n",
       "      <th>crop_id</th>\n",
       "      <th>crop_name</th>\n",
       "      <th>geometry</th>\n",
       "    </tr>\n",
       "  </thead>\n",
       "  <tbody>\n",
       "    <tr>\n",
       "      <th>2529</th>\n",
       "      <td>210145</td>\n",
       "      <td>259644.80075</td>\n",
       "      <td>2922.908013</td>\n",
       "      <td>5</td>\n",
       "      <td>Corn</td>\n",
       "      <td>MULTIPOLYGON (((451162.920 5809950.180, 451386...</td>\n",
       "    </tr>\n",
       "    <tr>\n",
       "      <th>2530</th>\n",
       "      <td>210149</td>\n",
       "      <td>11260.80940</td>\n",
       "      <td>433.843678</td>\n",
       "      <td>2</td>\n",
       "      <td>Rye</td>\n",
       "      <td>MULTIPOLYGON (((452645.460 5809120.610, 452645...</td>\n",
       "    </tr>\n",
       "    <tr>\n",
       "      <th>2531</th>\n",
       "      <td>210174</td>\n",
       "      <td>593211.62605</td>\n",
       "      <td>3766.251880</td>\n",
       "      <td>5</td>\n",
       "      <td>Corn</td>\n",
       "      <td>MULTIPOLYGON (((451948.160 5827166.390, 451948...</td>\n",
       "    </tr>\n",
       "    <tr>\n",
       "      <th>2532</th>\n",
       "      <td>210179</td>\n",
       "      <td>48034.13890</td>\n",
       "      <td>1210.785843</td>\n",
       "      <td>9</td>\n",
       "      <td>Forage Crops</td>\n",
       "      <td>MULTIPOLYGON (((439830.770 5808003.000, 439881...</td>\n",
       "    </tr>\n",
       "    <tr>\n",
       "      <th>2533</th>\n",
       "      <td>210180</td>\n",
       "      <td>428209.99690</td>\n",
       "      <td>3885.101917</td>\n",
       "      <td>6</td>\n",
       "      <td>Oil Seeds</td>\n",
       "      <td>MULTIPOLYGON (((437976.290 5828007.960, 437952...</td>\n",
       "    </tr>\n",
       "  </tbody>\n",
       "</table>\n",
       "</div>"
      ],
      "text/plain": [
       "         fid    SHAPE_AREA    SHAPE_LEN  crop_id     crop_name  \\\n",
       "2529  210145  259644.80075  2922.908013        5          Corn   \n",
       "2530  210149   11260.80940   433.843678        2           Rye   \n",
       "2531  210174  593211.62605  3766.251880        5          Corn   \n",
       "2532  210179   48034.13890  1210.785843        9  Forage Crops   \n",
       "2533  210180  428209.99690  3885.101917        6     Oil Seeds   \n",
       "\n",
       "                                               geometry  \n",
       "2529  MULTIPOLYGON (((451162.920 5809950.180, 451386...  \n",
       "2530  MULTIPOLYGON (((452645.460 5809120.610, 452645...  \n",
       "2531  MULTIPOLYGON (((451948.160 5827166.390, 451948...  \n",
       "2532  MULTIPOLYGON (((439830.770 5808003.000, 439881...  \n",
       "2533  MULTIPOLYGON (((437976.290 5828007.960, 437952...  "
      ]
     },
     "execution_count": 5,
     "metadata": {},
     "output_type": "execute_result"
    }
   ],
   "source": [
    "brandenburg_tr_labels=gpd.read_file(brandenburg_tr_labels_dir)\n",
    "print('INFO: Number of fields: {}\\n'.format(len(brandenburg_tr_labels)))\n",
    "brandenburg_tr_labels.info()\n",
    "brandenburg_tr_labels.tail()"
   ]
  },
  {
   "cell_type": "code",
   "execution_count": 6,
   "id": "dc5b5676",
   "metadata": {},
   "outputs": [
    {
     "name": "stdout",
     "output_type": "stream",
     "text": [
      "INFO: Label IDs: [9 1 8 2 3 5 6 7 4]\n",
      "INFO: Label Names: ['Forage Crops' 'Wheat' 'Meadows' 'Rye' 'Barley' 'Corn' 'Oil Seeds'\n",
      " 'Root Crops' 'Oats']\n"
     ]
    }
   ],
   "source": [
    "label_ids=brandenburg_tr_labels['crop_id'].unique()\n",
    "label_names=brandenburg_tr_labels['crop_name'].unique()\n",
    "\n",
    "print('INFO: Label IDs: {}'.format(label_ids))\n",
    "print('INFO: Label Names: {}'.format(label_names))"
   ]
  },
  {
   "cell_type": "code",
   "execution_count": 7,
   "id": "f39c5dca",
   "metadata": {},
   "outputs": [
    {
     "name": "stdout",
     "output_type": "stream",
     "text": [
      "INFO: Number of Fields by Crop Type: \n",
      "Meadows         954\n",
      "Forage Crops    339\n",
      "Wheat           305\n",
      "Rye             279\n",
      "Corn            251\n",
      "Oil Seeds       201\n",
      "Barley          137\n",
      "Oats             45\n",
      "Root Crops       23\n",
      "Name: crop_name, dtype: int64\n"
     ]
    },
    {
     "data": {
      "image/png": "[encoded data removed]",
      "text/plain": [
       "<Figure size 640x480 with 1 Axes>"
      ]
     },
     "metadata": {},
     "output_type": "display_data"
    }
   ],
   "source": [
    "value_counts=brandenburg_tr_labels['crop_name'].value_counts()\n",
    "\n",
    "colors_list = ['#78C850','#A8B820','#F8D030','#E0C068', '#F08030', '#C03028', '#F85888','#6890F0','#98D8D8'] \n",
    "ax=value_counts.plot.bar(color=colors_list)\n",
    "ax.set_ylabel(\"Number of Fields\")\n",
    "ax.set_xlabel(\"Crop Types\")\n",
    "\n",
    "print('INFO: Number of Fields by Crop Type: \\n{}'.format(value_counts))"
   ]
  },
  {
   "attachments": {},
   "cell_type": "markdown",
   "id": "37c80a72",
   "metadata": {},
   "source": [
    "# Working with Sentinel 2 Data"
   ]
  },
  {
   "cell_type": "code",
   "execution_count": 8,
   "id": "23260d3a",
   "metadata": {},
   "outputs": [],
   "source": [
    "brandenburg_s2_train_dir = \"data\\dlr_fusion_competition_germany\\dlr_fusion_competition_germany_train_source_sentinel_2\\dlr_fusion_competition_germany_train_source_sentinel_2_33N_18E_242N_2018/\"\n",
    "brandenburg_tr_labels_dir='data/dlr_fusion_competition_germany/dlr_fusion_competition_germany_train_labels/dlr_fusion_competition_germany_train_labels_33N_18E_242N/vector_labels.geojson'"
   ]
  },
  {
   "cell_type": "code",
   "execution_count": 9,
   "id": "10ec343e",
   "metadata": {},
   "outputs": [
    {
     "name": "stdout",
     "output_type": "stream",
     "text": [
      "144\n",
      "Available data indices: [[[[ 4529.  4529.  4529. ...  5627.  5627.  5627.]\n",
      "   [ 4529.  4529.  4529. ...  5627.  5627.  5627.]\n",
      "   [ 4529.  4529.  4529. ...  5627.  5627.  5627.]\n",
      "   ...\n",
      "   [ 4125.  4125.  4125. ...  5319.  5319.  5319.]\n",
      "   [ 4125.  4125.  4125. ...  5319.  5319.  5319.]\n",
      "   [ 4125.  4125.  4125. ...  5319.  5319.  5319.]]\n",
      "\n",
      "  [[ 3779.  3742.  3718. ...  4937.  4957.  4996.]\n",
      "   [ 3714.  3694.  3701. ...  4950.  4920.  4950.]\n",
      "   [ 3701.  3760.  3712. ...  4805.  4889.  4954.]\n",
      "   ...\n",
      "   [ 3466.  3475.  3518. ...  4337.  4346.  4465.]\n",
      "   [ 3406.  3436.  3497. ...  4387.  4489.  4489.]\n",
      "   [ 3436.  3382.  3434. ...  4509.  4583.  4442.]]\n",
      "\n",
      "  [[ 3097.  3120.  3175. ...  4327.  4294.  4308.]\n",
      "   [ 3091.  3150.  3120. ...  4259.  4292.  4300.]\n",
      "   [ 3083.  3126.  3108. ...  4204.  4204.  4143.]\n",
      "   ...\n",
      "   [ 2848.  2883.  2846. ...  3716.  3800.  3841.]\n",
      "   [ 2816.  2928.  2850. ...  3698.  3810.  3824.]\n",
      "   [ 2926.  2938.  2885. ...  3804.  3832.  3751.]]\n",
      "\n",
      "  ...\n",
      "\n",
      "  [[ 2725.  2725.  2725. ...  3769.  3769.  3769.]\n",
      "   [ 2725.  2725.  2725. ...  3769.  3769.  3769.]\n",
      "   [ 2725.  2725.  2725. ...  3769.  3769.  3769.]\n",
      "   ...\n",
      "   [ 2464.  2464.  2464. ...  3687.  3687.  3687.]\n",
      "   [ 2464.  2464.  2464. ...  3687.  3687.  3687.]\n",
      "   [ 2464.  2464.  2464. ...  3687.  3687.  3687.]]\n",
      "\n",
      "  [[ 1934.  1934.  1934. ...  2808.  2817.  2817.]\n",
      "   [ 1895.  1920.  1920. ...  2779.  2760.  2760.]\n",
      "   [ 1895.  1920.  1920. ...  2779.  2760.  2760.]\n",
      "   ...\n",
      "   [ 1770.  1755.  1755. ...  2498.  2597.  2597.]\n",
      "   [ 1778.  1746.  1746. ...  2492.  2562.  2562.]\n",
      "   [ 1778.  1746.  1746. ...  2492.  2562.  2562.]]\n",
      "\n",
      "  [[ 1527.  1545.  1545. ...  2302.  2280.  2280.]\n",
      "   [ 1522.  1559.  1559. ...  2260.  2250.  2250.]\n",
      "   [ 1522.  1559.  1559. ...  2260.  2250.  2250.]\n",
      "   ...\n",
      "   [ 1416.  1411.  1411. ...  2068.  2112.  2112.]\n",
      "   [ 1413.  1431.  1431. ...  2072.  2132.  2132.]\n",
      "   [ 1413.  1431.  1431. ...  2072.  2132.  2132.]]]\n",
      "\n",
      "\n",
      " [[[  657.   657.   657. ...  3092.  3092.  3092.]\n",
      "   [  657.   657.   657. ...  3092.  3092.  3092.]\n",
      "   [  657.   657.   657. ...  3092.  3092.  3092.]\n",
      "   ...\n",
      "   [ 1538.  1538.  1538. ...  1812.  1812.  1812.]\n",
      "   [ 1538.  1538.  1538. ...  1812.  1812.  1812.]\n",
      "   [ 1538.  1538.  1538. ...  1812.  1812.  1812.]]\n",
      "\n",
      "  [[  657.   568.   596. ...  2732.  2820.  2766.]\n",
      "   [  695.   636.   651. ...  2850.  2890.  2940.]\n",
      "   [  683.   669.   650. ...  3016.  3056.  3124.]\n",
      "   ...\n",
      "   [ 1842.  1896.  2206. ...  1766.  1732.  1584.]\n",
      "   [ 2024.  2098.  2382. ...  1886.  1814.  1602.]\n",
      "   [ 2236.  2304.  2532. ...  2166.  1988.  1722.]]\n",
      "\n",
      "  [[  561.   648.   575. ...  2448.  2544.  2596.]\n",
      "   [  647.   661.   648. ...  2590.  2570.  2596.]\n",
      "   [  681.   596.   612. ...  2866.  2896.  2900.]\n",
      "   ...\n",
      "   [ 1516.  1594.  1758. ...  1910.  1790.  1666.]\n",
      "   [ 1736.  1762.  1844. ...  1958.  1924.  1892.]\n",
      "   [ 1916.  1914.  1964. ...  2014.  2038.  1994.]]\n",
      "\n",
      "  ...\n",
      "\n",
      "  [[  684.   684.   684. ...  2622.  2622.  2622.]\n",
      "   [  684.   684.   684. ...  2622.  2622.  2622.]\n",
      "   [  684.   684.   684. ...  2622.  2622.  2622.]\n",
      "   ...\n",
      "   [ 1244.  1244.  1244. ...  2145.  2145.  2145.]\n",
      "   [ 1244.  1244.  1244. ...  2145.  2145.  2145.]\n",
      "   [ 1244.  1244.  1244. ...  2145.  2145.  2145.]]\n",
      "\n",
      "  [[  906.   935.   935. ...  2246.  2313.  2313.]\n",
      "   [  909.   940.   940. ...  2646.  2846.  2846.]\n",
      "   [  909.   940.   940. ...  2646.  2846.  2846.]\n",
      "   ...\n",
      "   [ 1173.  1281.  1281. ...  2572.  2353.  2353.]\n",
      "   [ 1311.  1395.  1395. ...  2426.  2455.  2455.]\n",
      "   [ 1311.  1395.  1395. ...  2426.  2455.  2455.]]\n",
      "\n",
      "  [[  695.   726.   726. ...  1848.  1856.  1856.]\n",
      "   [  680.   698.   698. ...  2211.  2364.  2364.]\n",
      "   [  680.   698.   698. ...  2211.  2364.  2364.]\n",
      "   ...\n",
      "   [  858.   939.   939. ...  2281.  2262.  2262.]\n",
      "   [  958.  1035.  1035. ...  2048.  2242.  2242.]\n",
      "   [  958.  1035.  1035. ...  2048.  2242.  2242.]]]\n",
      "\n",
      "\n",
      " [[[ 2004.  2004.  2004. ...  3019.  3019.  3019.]\n",
      "   [ 2004.  2004.  2004. ...  3019.  3019.  3019.]\n",
      "   [ 2004.  2004.  2004. ...  3019.  3019.  3019.]\n",
      "   ...\n",
      "   [ 3696.  3696.  3696. ...  3755.  3755.  3755.]\n",
      "   [ 3696.  3696.  3696. ...  3755.  3755.  3755.]\n",
      "   [ 3696.  3696.  3696. ...  3755.  3755.  3755.]]\n",
      "\n",
      "  [[ 2237.  2156.  2156. ...  3164.  3087.  2968.]\n",
      "   [ 2381.  2356.  2387. ...  3131.  2919.  3003.]\n",
      "   [ 2495.  2573.  2623. ...  3188.  2849.  2899.]\n",
      "   ...\n",
      "   [ 3696.  3594.  3581. ...  4494.  4481.  4521.]\n",
      "   [ 3583.  3590.  3541. ...  4616.  4600.  4565.]\n",
      "   [ 3535.  3608.  3539. ...  4558.  4717.  4631.]]\n",
      "\n",
      "  [[ 1886.  1847.  1902. ...  2806.  2730.  2714.]\n",
      "   [ 1894.  1875.  1949. ...  2720.  2739.  2751.]\n",
      "   [ 1968.  1916.  1927. ...  2765.  2819.  2841.]\n",
      "   ...\n",
      "   [ 3099.  3077.  3134. ...  4041.  4059.  3989.]\n",
      "   [ 3157.  3143.  3138. ...  3969.  3955.  3948.]\n",
      "   [ 3163.  3126.  3147. ...  3932.  3914.  3854.]]\n",
      "\n",
      "  ...\n",
      "\n",
      "  [[ 1927.  1927.  1927. ...  2779.  2779.  2779.]\n",
      "   [ 1927.  1927.  1927. ...  2779.  2779.  2779.]\n",
      "   [ 1927.  1927.  1927. ...  2779.  2779.  2779.]\n",
      "   ...\n",
      "   [ 2806.  2806.  2806. ...  3079.  3079.  3079.]\n",
      "   [ 2806.  2806.  2806. ...  3079.  3079.  3079.]\n",
      "   [ 2806.  2806.  2806. ...  3079.  3079.  3079.]]\n",
      "\n",
      "  [[ 1878.  1886.  1886. ...  2614.  2602.  2602.]\n",
      "   [ 1952.  1913.  1913. ...  2678.  2632.  2632.]\n",
      "   [ 1952.  1913.  1913. ...  2678.  2632.  2632.]\n",
      "   ...\n",
      "   [ 2593.  2545.  2545. ...  3326.  3252.  3252.]\n",
      "   [ 2592.  2548.  2548. ...  3509.  3396.  3396.]\n",
      "   [ 2592.  2548.  2548. ...  3509.  3396.  3396.]]\n",
      "\n",
      "  [[ 1532.  1503.  1503. ...  2295.  2269.  2269.]\n",
      "   [ 1588.  1519.  1519. ...  2292.  2289.  2289.]\n",
      "   [ 1588.  1519.  1519. ...  2292.  2289.  2289.]\n",
      "   ...\n",
      "   [ 2062.  2070.  2070. ...  2807.  2806.  2806.]\n",
      "   [ 2062.  2069.  2069. ...  2872.  2877.  2877.]\n",
      "   [ 2062.  2069.  2069. ...  2872.  2877.  2877.]]]\n",
      "\n",
      "\n",
      " ...\n",
      "\n",
      "\n",
      " [[[ 6394.  6394.  6394. ...  7119.  7119.  7119.]\n",
      "   [ 6394.  6394.  6394. ...  7119.  7119.  7119.]\n",
      "   [ 6394.  6394.  6394. ...  7119.  7119.  7119.]\n",
      "   ...\n",
      "   [ 6984.  6984.  6984. ...  6820.  6820.  6820.]\n",
      "   [ 6984.  6984.  6984. ...  6820.  6820.  6820.]\n",
      "   [ 6984.  6984.  6984. ...  6820.  6820.  6820.]]\n",
      "\n",
      "  [[ 5836.  5736.  5776. ...  6368.  6344.  6344.]\n",
      "   [ 5900.  5972.  5904. ...  6312.  6312.  6224.]\n",
      "   [ 5884.  5884.  5900. ...  6308.  6308.  6276.]\n",
      "   ...\n",
      "   [ 6460.  6468.  6420. ...  5924.  6000.  5996.]\n",
      "   [ 6344.  6408.  6484. ...  5980.  6016.  6068.]\n",
      "   [ 6276.  6304.  6484. ...  6068.  6092.  6080.]]\n",
      "\n",
      "  [[ 5372.  5328.  5308. ...  5924.  5876.  5832.]\n",
      "   [ 5412.  5384.  5460. ...  5848.  5768.  5816.]\n",
      "   [ 5440.  5384.  5464. ...  5856.  5736.  5660.]\n",
      "   ...\n",
      "   [ 5700.  5816.  5864. ...  5252.  5348.  5412.]\n",
      "   [ 5700.  5776.  5752. ...  5416.  5440.  5480.]\n",
      "   [ 5716.  5768.  5792. ...  5420.  5368.  5492.]]\n",
      "\n",
      "  ...\n",
      "\n",
      "  [[ 6009.  6009.  6009. ...  7099.  7099.  7099.]\n",
      "   [ 6009.  6009.  6009. ...  7099.  7099.  7099.]\n",
      "   [ 6009.  6009.  6009. ...  7099.  7099.  7099.]\n",
      "   ...\n",
      "   [ 6549.  6549.  6549. ...  6013.  6013.  6013.]\n",
      "   [ 6549.  6549.  6549. ...  6013.  6013.  6013.]\n",
      "   [ 6549.  6549.  6549. ...  6013.  6013.  6013.]]\n",
      "\n",
      "  [[ 3722.  3740.  3740. ...  4300.  4090.  4090.]\n",
      "   [ 3729.  3781.  3781. ...  4249.  4056.  4056.]\n",
      "   [ 3729.  3781.  3781. ...  4249.  4056.  4056.]\n",
      "   ...\n",
      "   [ 3886.  3903.  3903. ...  3405.  3369.  3369.]\n",
      "   [ 3790.  3826.  3826. ...  3447.  3436.  3436.]\n",
      "   [ 3790.  3826.  3826. ...  3447.  3436.  3436.]]\n",
      "\n",
      "  [[ 3140.  3189.  3189. ...  3774.  3563.  3563.]\n",
      "   [ 3231.  3200.  3200. ...  3677.  3530.  3530.]\n",
      "   [ 3231.  3200.  3200. ...  3677.  3530.  3530.]\n",
      "   ...\n",
      "   [ 3186.  3171.  3171. ...  2713.  2639.  2639.]\n",
      "   [ 3099.  3138.  3138. ...  2732.  2701.  2701.]\n",
      "   [ 3099.  3138.  3138. ...  2732.  2701.  2701.]]]\n",
      "\n",
      "\n",
      " [[[ 7557.  7557.  7557. ...  8543.  8543.  8543.]\n",
      "   [ 7557.  7557.  7557. ...  8543.  8543.  8543.]\n",
      "   [ 7557.  7557.  7557. ...  8543.  8543.  8543.]\n",
      "   ...\n",
      "   [ 6707.  6707.  6707. ...  7061.  7061.  7061.]\n",
      "   [ 6707.  6707.  6707. ...  7061.  7061.  7061.]\n",
      "   [ 6707.  6707.  6707. ...  7061.  7061.  7061.]]\n",
      "\n",
      "  [[ 7724.  7788.  7544. ...  8048.  8712.  8448.]\n",
      "   [ 7748.  7612.  7376. ...  7696.  8440.  8544.]\n",
      "   [ 7612.  7584.  7344. ...  7520.  8076.  8172.]\n",
      "   ...\n",
      "   [ 6676.  6860.  7036. ...  5976.  6284.  6220.]\n",
      "   [ 6796.  7064.  7248. ...  6224.  6632.  6436.]\n",
      "   [ 7000.  7248.  7360. ...  6652.  6928.  6756.]]\n",
      "\n",
      "  [[ 7376.  7080.  7008. ...  8312.  8384.  8104.]\n",
      "   [ 7492.  7172.  7036. ...  7916.  8272.  7956.]\n",
      "   [ 7376.  7172.  7016. ...  7608.  7884.  7752.]\n",
      "   ...\n",
      "   [ 6308.  6544.  6704. ...  5840.  5968.  6144.]\n",
      "   [ 6444.  6704.  7008. ...  6124.  6308.  6100.]\n",
      "   [ 6552.  6852.  7072. ...  6444.  6544.  6180.]]\n",
      "\n",
      "  ...\n",
      "\n",
      "  [[ 7810.  7810.  7810. ...  8914.  8914.  8914.]\n",
      "   [ 7810.  7810.  7810. ...  8914.  8914.  8914.]\n",
      "   [ 7810.  7810.  7810. ...  8914.  8914.  8914.]\n",
      "   ...\n",
      "   [ 6375.  6375.  6375. ...  8108.  8108.  8108.]\n",
      "   [ 6375.  6375.  6375. ...  8108.  8108.  8108.]\n",
      "   [ 6375.  6375.  6375. ...  8108.  8108.  8108.]]\n",
      "\n",
      "  [[ 4455.  4290.  4290. ...  5105.  5146.  5146.]\n",
      "   [ 4461.  4443.  4443. ...  4792.  4971.  4971.]\n",
      "   [ 4461.  4443.  4443. ...  4792.  4971.  4971.]\n",
      "   ...\n",
      "   [ 3755.  3903.  3903. ...  3907.  4501.  4501.]\n",
      "   [ 4044.  4308.  4308. ...  4203.  4591.  4591.]\n",
      "   [ 4044.  4308.  4308. ...  4203.  4591.  4591.]]\n",
      "\n",
      "  [[ 2960.  2889.  2889. ...  3550.  3487.  3487.]\n",
      "   [ 3005.  3039.  3039. ...  3350.  3412.  3412.]\n",
      "   [ 3005.  3039.  3039. ...  3350.  3412.  3412.]\n",
      "   ...\n",
      "   [ 2556.  2616.  2616. ...  2803.  3443.  3443.]\n",
      "   [ 2871.  2987.  2987. ...  3003.  3577.  3577.]\n",
      "   [ 2871.  2987.  2987. ...  3003.  3577.  3577.]]]\n",
      "\n",
      "\n",
      " [[[ 8844.  8844.  8844. ... 14797. 14797. 14797.]\n",
      "   [ 8844.  8844.  8844. ... 14797. 14797. 14797.]\n",
      "   [ 8844.  8844.  8844. ... 14797. 14797. 14797.]\n",
      "   ...\n",
      "   [11073. 11073. 11073. ...  8843.  8843.  8843.]\n",
      "   [11073. 11073. 11073. ...  8843.  8843.  8843.]\n",
      "   [11073. 11073. 11073. ...  8843.  8843.  8843.]]\n",
      "\n",
      "  [[ 8288.  8140.  8240. ... 16400. 16328. 16400.]\n",
      "   [ 8272.  8200.  8376. ... 16432. 16432. 16432.]\n",
      "   [ 8312.  8464.  8496. ... 16432. 16432. 16432.]\n",
      "   ...\n",
      "   [11184. 11032. 11016. ...  8808.  8928.  9008.]\n",
      "   [10896. 10720. 10624. ...  8816.  8840.  9040.]\n",
      "   [10568. 10440. 10304. ...  8984.  8952.  8992.]]\n",
      "\n",
      "  [[ 7340.  7376.  7396. ... 15856. 15808. 15880.]\n",
      "   [ 7416.  7416.  7396. ... 16416. 16336. 16312.]\n",
      "   [ 7504.  7584.  7728. ... 16496. 16496. 16496.]\n",
      "   ...\n",
      "   [10528. 10568. 10408. ...  7956.  8028.  8180.]\n",
      "   [10208. 10280. 10144. ...  7896.  8024.  8032.]\n",
      "   [ 9896.  9896.  9808. ...  8056.  8120.  8052.]]\n",
      "\n",
      "  ...\n",
      "\n",
      "  [[ 8706.  8706.  8706. ... 15768. 15768. 15768.]\n",
      "   [ 8706.  8706.  8706. ... 15768. 15768. 15768.]\n",
      "   [ 8706.  8706.  8706. ... 15768. 15768. 15768.]\n",
      "   ...\n",
      "   [13468. 13468. 13468. ...  9016.  9016.  9016.]\n",
      "   [13468. 13468. 13468. ...  9016.  9016.  9016.]\n",
      "   [13468. 13468. 13468. ...  9016.  9016.  9016.]]\n",
      "\n",
      "  [[ 3697.  3372.  3372. ... 10560. 10450. 10450.]\n",
      "   [ 3436.  3284.  3284. ... 11553. 11402. 11402.]\n",
      "   [ 3436.  3284.  3284. ... 11553. 11402. 11402.]\n",
      "   ...\n",
      "   [ 7781.  7867.  7867. ...  4450.  4754.  4754.]\n",
      "   [ 7279.  7241.  7241. ...  4505.  4758.  4758.]\n",
      "   [ 7279.  7241.  7241. ...  4505.  4758.  4758.]]\n",
      "\n",
      "  [[ 2691.  2300.  2300. ...  7661.  7579.  7579.]\n",
      "   [ 2263.  2041.  2041. ...  8535.  8438.  8438.]\n",
      "   [ 2263.  2041.  2041. ...  8535.  8438.  8438.]\n",
      "   ...\n",
      "   [ 6095.  6143.  6143. ...  3234.  3504.  3504.]\n",
      "   [ 5799.  5722.  5722. ...  3294.  3603.  3603.]\n",
      "   [ 5799.  5722.  5722. ...  3294.  3603.  3603.]]]]\n"
     ]
    }
   ],
   "source": [
    "import numpy as np\n",
    "\n",
    "# Load the .npz file\n",
    "data = np.load(\"data\\dlr_fusion_competition_germany\\dlr_fusion_competition_germany_train_source_sentinel_2\\dlr_fusion_competition_germany_train_source_sentinel_2_33N_18E_242N_2018/fid_3935.npz\")\n",
    "\n",
    "# Check the available data indices\n",
    "available_indices = data['image_stack']\n",
    "print(len(data['image_stack']))\n",
    "print(\"Available data indices:\", available_indices)\n"
   ]
  },
  {
   "cell_type": "code",
   "execution_count": 10,
   "id": "75370b6f",
   "metadata": {},
   "outputs": [],
   "source": [
    "def true_color(X):\n",
    "    blue = X[1]/(X[1].max()/255.0)\n",
    "    green = X[2]/(X[2].max()/255.0)\n",
    "    red = X[3]/(X[3].max()/255.0)\n",
    "    tc = np.dstack((red,green,blue)) \n",
    "    \n",
    "    return tc.astype('uint8')\n",
    "\n",
    "def ndvi(X):\n",
    "    red = X[3]\n",
    "    nir = X[7]\n",
    "    return (nir-red) / (nir + red)"
   ]
  },
  {
   "cell_type": "code",
   "execution_count": 17,
   "id": "38baef4e",
   "metadata": {},
   "outputs": [
    {
     "name": "stdout",
     "output_type": "stream",
     "text": [
      "INFO: Ignoring 30/2534 fields with area < 1000m2\n"
     ]
    },
    {
     "name": "stderr",
     "output_type": "stream",
     "text": [
      "INFO: Extracting time series into the folder: data\\dlr_fusion_competition_germany\\dlr_fusion_competition_germany_train_source_sentinel_2\\dlr_fusion_competition_germany_train_source_sentinel_2_33N_18E_242N_2018/: 100%|██████████| 2504/2504 [00:00<00:00, 21528.47it/s]\n"
     ]
    }
   ],
   "source": [
    "# Selected_time_interval can be left empty to exploit all available time points\n",
    "s2_reader = S2Reader(input_dir=brandenburg_s2_train_dir, label_dir=brandenburg_tr_labels_dir)\n",
    "\n",
    "crop_id, crop_name = label_ids[7], label_names[0]"
   ]
  },
  {
   "cell_type": "code",
   "execution_count": 18,
   "id": "0a013615",
   "metadata": {},
   "outputs": [
    {
     "name": "stdout",
     "output_type": "stream",
     "text": [
      "[0.011775643, 0.044854883, 0.06920576, 0.30363137, 0.005856172, 0.07061703, 0.03448598, 0.038190167, 0.14575905, 0.23514432, 0.06082725, 0.018913481, 0.25644296, 0.0493886, 0.34721667, 0.36693394, 0.033777718, 0.3960126, 0.07091562, -0.023895457, 0.40904197, 0.42422846, 0.3321617, 0.26328853, 0.37409103, 0.028355388, -0.019895807, -0.007859164, 0.06721464, -0.0066383234, 0.42510122, 0.0039744256, 0.0074201897, 0.35663888, 0.02767094, 0.08374497, 0.41127038, 0.38874894, 0.46082234, 0.43866003, 0.02928704, -0.011336493, 0.6412556, 0.6368897, 0.58971393, 0.03847944, 0.7723368, 0.7738015, -0.003829435, 0.79955345, 0.8346484, 0.8010009, 0.02633626, 0.81790745, 0.27871412, 0.5167474, 0.83490926, 0.5935706, 0.7980853, 0.52922255, -0.040105194, 0.7621594, 0.70919883, 0.61366624, 0.0010369858, 0.10381824, 0.03448276, 0.06980273, 0.02334445, -0.023305845, 0.38972163, 0.48080578, 0.5077501, -0.0037397158, 0.22824465, 0.2142039, 0.31527415, 0.5883055, 0.041448973, 0.39344263, 0.7482366, 0.74859285, 0.29329917, 0.7792561, 0.7787611, 0.010056843, 0.7424094, 0.024251806, 0.66835874, 0.6674877, 0.60488087, -0.005172414, 0.5597484, -0.0068524443, -0.0018416207, 0.02522376, 0.12550907, 0.61936194, 0.6065702, 0.65334773, 0.04913188, -0.008372093, 0.17117117, 0.62816, 0.37584946, 0.14079896, 0.09696711, 0.7066105, 0.07071623, 0.06432247, 0.63994855, 0.33870968, 0.6445731, 0.6223692, 0.564906, 0.08159532, 0.6270854, 0.562837, 0.0043050433, 0.011042945, 0.6549226, 0.14070503, 0.2724729, 0.1398361, 0.49902913, 0.17912371, 0.16685714, -0.0037902717, -0.012013455, -0.001490313, 0.59930617, 0.046464648, 0.006633499, 0.56645006, 0.15645278, 0.030726258, 0.0074294205, -0.000333667, 0.039407562, 0.06551476, 0.07731093, -0.017634409, 0.082750104]\n",
      "[0, 1, 2, 3, 4, 5, 6, 7, 8, 9, 10, 11, 12, 13, 14, 15, 16, 17, 18, 19, 20, 21, 22, 23, 24, 25, 26, 27, 28, 29, 30, 31, 32, 33, 34, 35, 36, 37, 38, 39, 40, 41, 42, 43, 44, 45, 46, 47, 48, 49, 50, 51, 52, 53, 54, 55, 56, 57, 58, 59, 60, 61, 62, 63, 64, 65, 66, 67, 68, 69, 70, 71, 72, 73, 74, 75, 76, 77, 78, 79, 80, 81, 82, 83, 84, 85, 86, 87, 88, 89, 90, 91, 92, 93, 94, 95, 96, 97, 98, 99, 100, 101, 102, 103, 104, 105, 106, 107, 108, 109, 110, 111, 112, 113, 114, 115, 116, 117, 118, 119, 120, 121, 122, 123, 124, 125, 126, 127, 128, 129, 130, 131, 132, 133, 134, 135, 136, 137, 138, 139, 140, 141, 142]\n"
     ]
    }
   ],
   "source": [
    "# Print Median value of each field for all days\n",
    "median = []\n",
    "days = []\n",
    "iterable = iter(s2_reader)\n",
    "while True:\n",
    "    X, y, mask, _ = next(iterable)\n",
    "\n",
    "    width = X.shape[-1]\n",
    "    height = X.shape[-2]\n",
    "\n",
    "    if y == crop_id and width > 60 and height > 60:\n",
    "        for day in range(143):\n",
    "            median.append(np.median(ndvi(X[day])))\n",
    "            days.append(day)\n",
    "\n",
    "        break\n",
    "\n",
    "print(median)\n",
    "print(days)"
   ]
  },
  {
   "cell_type": "code",
   "execution_count": 19,
   "id": "68b4bcd7",
   "metadata": {},
   "outputs": [
    {
     "data": {
      "text/plain": [
       "<function matplotlib.pyplot.show(close=None, block=None)>"
      ]
     },
     "execution_count": 19,
     "metadata": {},
     "output_type": "execute_result"
    },
    {
     "data": {
      "image/png": "[encoded data removed]",
      "text/plain": [
       "<Figure size 640x480 with 1 Axes>"
      ]
     },
     "metadata": {},
     "output_type": "display_data"
    }
   ],
   "source": [
    "plt.plot(days, median)\n",
    "plt.show"
   ]
  },
  {
   "attachments": {},
   "cell_type": "markdown",
   "id": "887c1961",
   "metadata": {},
   "source": [
    "# Preparing Sentinel 2 data"
   ]
  },
  {
   "cell_type": "code",
   "execution_count": 14,
   "id": "e8669e5a",
   "metadata": {},
   "outputs": [],
   "source": [
    "brandenburg_s2_train_dir = \"data\\dlr_fusion_competition_germany\\dlr_fusion_competition_germany_train_source_sentinel_2\\dlr_fusion_competition_germany_train_source_sentinel_2_33N_18E_242N_2018/\"\n",
    "brandenburg_tr_labels_dir='data/dlr_fusion_competition_germany/dlr_fusion_competition_germany_train_labels/dlr_fusion_competition_germany_train_labels_33N_18E_242N/vector_labels.geojson'\n",
    "\n",
    "brandenburg_tr_labels=gpd.read_file(brandenburg_tr_labels_dir)\n",
    "label_ids=brandenburg_tr_labels['crop_id'].unique()\n",
    "label_names=brandenburg_tr_labels['crop_name'].unique()"
   ]
  },
  {
   "cell_type": "code",
   "execution_count": 15,
   "id": "c7f6ab74",
   "metadata": {},
   "outputs": [],
   "source": [
    "zipped_lists = zip(label_ids, label_names)\n",
    "sorted_pairs = sorted(zipped_lists)\n",
    "\n",
    "tuples = zip(*sorted_pairs)\n",
    "label_ids, label_names = [ list(tuple) for tuple in  tuples]"
   ]
  },
  {
   "cell_type": "code",
   "execution_count": 16,
   "id": "b65f3b6b",
   "metadata": {},
   "outputs": [
    {
     "name": "stdout",
     "output_type": "stream",
     "text": [
      "INFO: Ignoring 30/2534 fields with area < 1000m2\n"
     ]
    },
    {
     "name": "stderr",
     "output_type": "stream",
     "text": [
      "INFO: Extracting time series into the folder: data\\dlr_fusion_competition_germany\\dlr_fusion_competition_germany_train_source_sentinel_2\\dlr_fusion_competition_germany_train_source_sentinel_2_33N_18E_242N_2018/: 100%|██████████| 2504/2504 [00:00<00:00, 23709.20it/s]"
     ]
    },
    {
     "name": "stdout",
     "output_type": "stream",
     "text": [
      "INFO: Training data loader initialized.\n",
      "INFO: Validation data loader initialized.\n"
     ]
    },
    {
     "name": "stderr",
     "output_type": "stream",
     "text": [
      "\n"
     ]
    }
   ],
   "source": [
    "sentinel_2_transformer=Sentinel2Transform()\n",
    "s2_reader = S2Reader(input_dir=brandenburg_s2_train_dir, label_dir=brandenburg_tr_labels_dir, label_ids=label_ids, transform=sentinel_2_transformer.transform, min_area_to_ignore=1000)\n",
    "\n",
    "data_loader=DataLoader(train_val_reader=s2_reader, validation_split=0.25)\n",
    "train_loader=data_loader.get_train_loader(batch_size=8, num_workers=1)\n",
    "valid_loader=data_loader.get_validation_loader(batch_size=8, num_workers=1)"
   ]
  },
  {
   "cell_type": "code",
   "execution_count": null,
   "id": "3896a3b6",
   "metadata": {},
   "outputs": [],
   "source": []
  }
 ],
 "metadata": {
  "kernelspec": {
   "display_name": "Python 3 (ipykernel)",
   "language": "python",
   "name": "python3"
  },
  "language_info": {
   "codemirror_mode": {
    "name": "ipython",
    "version": 3
   },
   "file_extension": ".py",
   "mimetype": "text/x-python",
   "name": "python",
   "nbconvert_exporter": "python",
   "pygments_lexer": "ipython3",
   "version": "3.10.9"
  }
 },
 "nbformat": 4,
 "nbformat_minor": 5
}
